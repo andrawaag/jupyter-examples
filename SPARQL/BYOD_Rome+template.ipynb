{
 "cells": [
  {
   "cell_type": "code",
   "execution_count": 13,
   "metadata": {},
   "outputs": [
    {
     "data": {
      "text/html": [
       "<div class=\"krn-spql\"><div class=\"magic\">Endpoint set to: https://rome-byod.fair-dtls.surf-hosted.nl/sparql/</div><div class=\"magic\">Return format: JSON</div></div>"
      ],
      "text/plain": [
       "Endpoint set to: https://rome-byod.fair-dtls.surf-hosted.nl/sparql/\n",
       "Return format: JSON\n"
      ]
     },
     "metadata": {},
     "output_type": "display_data"
    }
   ],
   "source": [
    "%endpoint  https://rome-byod.fair-dtls.surf-hosted.nl/sparql/\n",
    "%format    json"
   ]
  },
  {
   "cell_type": "code",
   "execution_count": 14,
   "metadata": {},
   "outputs": [
    {
     "data": {
      "text/html": [
       "<div class=\"krn-spql\"><table><tr class=hdr><th>item</th>\n",
       "<th>doid</th></tr><tr class=odd><td class=val><a href=\"http://www.wikidata.org/entity/Q1477\" target=\"_other\">http://www.wikidata.org/entity/Q1477</a></td>\n",
       "<td class=val>DOID:8577</td></tr><tr class=even><td class=val><a href=\"http://www.wikidata.org/entity/Q1485\" target=\"_other\">http://www.wikidata.org/entity/Q1485</a></td>\n",
       "<td class=val>DOID:9074</td></tr><tr class=odd><td class=val><a href=\"http://www.wikidata.org/entity/Q8282\" target=\"_other\">http://www.wikidata.org/entity/Q8282</a></td>\n",
       "<td class=val>DOID:13774</td></tr><tr class=even><td class=val><a href=\"http://www.wikidata.org/entity/Q6853\" target=\"_other\">http://www.wikidata.org/entity/Q6853</a></td>\n",
       "<td class=val>DOID:2043</td></tr><tr class=odd><td class=val><a href=\"http://www.wikidata.org/entity/Q11081\" target=\"_other\">http://www.wikidata.org/entity/Q11081</a></td>\n",
       "<td class=val>DOID:10652</td></tr><tr class=even><td class=val><a href=\"http://www.wikidata.org/entity/Q12156\" target=\"_other\">http://www.wikidata.org/entity/Q12156</a></td>\n",
       "<td class=val>DOID:12365</td></tr><tr class=odd><td class=val><a href=\"http://www.wikidata.org/entity/Q12090\" target=\"_other\">http://www.wikidata.org/entity/Q12090</a></td>\n",
       "<td class=val>DOID:1498</td></tr><tr class=even><td class=val><a href=\"http://www.wikidata.org/entity/Q12152\" target=\"_other\">http://www.wikidata.org/entity/Q12152</a></td>\n",
       "<td class=val>DOID:5844</td></tr><tr class=odd><td class=val><a href=\"http://www.wikidata.org/entity/Q12202\" target=\"_other\">http://www.wikidata.org/entity/Q12202</a></td>\n",
       "<td class=val>DOID:6713</td></tr><tr class=even><td class=val><a href=\"http://www.wikidata.org/entity/Q32540\" target=\"_other\">http://www.wikidata.org/entity/Q32540</a></td>\n",
       "<td class=val>DOID:5870</td></tr><tr class=odd><td class=val><a href=\"http://www.wikidata.org/entity/Q28932318\" target=\"_other\">http://www.wikidata.org/entity/Q28932318</a></td>\n",
       "<td class=val>DOID:9498</td></tr><tr class=even><td class=val><a href=\"http://www.wikidata.org/entity/Q41861\" target=\"_other\">http://www.wikidata.org/entity/Q41861</a></td>\n",
       "<td class=val>DOID:10763</td></tr><tr class=odd><td class=val><a href=\"http://www.wikidata.org/entity/Q42982\" target=\"_other\">http://www.wikidata.org/entity/Q42982</a></td>\n",
       "<td class=val>DOID:1205</td></tr><tr class=even><td class=val><a href=\"http://www.wikidata.org/entity/Q47715\" target=\"_other\">http://www.wikidata.org/entity/Q47715</a></td>\n",
       "<td class=val>DOID:14250</td></tr><tr class=odd><td class=val><a href=\"http://www.wikidata.org/entity/Q49989\" target=\"_other\">http://www.wikidata.org/entity/Q49989</a></td>\n",
       "<td class=val>DOID:11949</td></tr><tr class=even><td class=val><a href=\"http://www.wikidata.org/entity/Q52854\" target=\"_other\">http://www.wikidata.org/entity/Q52854</a></td>\n",
       "<td class=val>DOID:14188</td></tr><tr class=odd><td class=val><a href=\"http://www.wikidata.org/entity/Q52844\" target=\"_other\">http://www.wikidata.org/entity/Q52844</a></td>\n",
       "<td class=val>DOID:204</td></tr><tr class=even><td class=val><a href=\"http://www.wikidata.org/entity/Q62736\" target=\"_other\">http://www.wikidata.org/entity/Q62736</a></td>\n",
       "<td class=val>DOID:8398</td></tr><tr class=odd><td class=val><a href=\"http://www.wikidata.org/entity/Q73518\" target=\"_other\">http://www.wikidata.org/entity/Q73518</a></td>\n",
       "<td class=val>DOID:0060068</td></tr><tr class=even><td class=val><a href=\"http://www.wikidata.org/entity/Q79928\" target=\"_other\">http://www.wikidata.org/entity/Q79928</a></td>\n",
       "<td class=val>DOID:6543</td></tr></table><div class=\"tinfo\">Total: 8454, Shown: 20</div></div>"
      ]
     },
     "metadata": {},
     "output_type": "display_data"
    }
   ],
   "source": [
    "PREFIX bd: <http://www.bigdata.com/rdf#>\n",
    "PREFIX wikibase: <http://wikiba.se/ontology#>\n",
    "PREFIX wdt: <http://www.wikidata.org/prop/direct/>\n",
    "PREFIX wd: <http://www.wikidata.org/entity/>\n",
    "\n",
    "SELECT * WHERE {\n",
    "    SERVICE <http://query.wikidata.org/sparql> {\n",
    "        ?item wdt:P699 ?doid  .\n",
    "         SERVICE wikibase:label { bd:serviceParam wikibase:language \"[AUTO_LANGUAGE],en\". }\n",
    "    }\n",
    "}"
   ]
  },
  {
   "cell_type": "code",
   "execution_count": null,
   "metadata": {},
   "outputs": [],
   "source": []
  }
 ],
 "metadata": {
  "kernelspec": {
   "display_name": "SPARQL",
   "language": "",
   "name": "sparql"
  },
  "language_info": {
   "codemirror_mode": {
    "name": "sparql"
   },
   "mimetype": "application/sparql-query",
   "name": "sparql",
   "pygments_lexer": "sparql-nb"
  }
 },
 "nbformat": 4,
 "nbformat_minor": 2
}

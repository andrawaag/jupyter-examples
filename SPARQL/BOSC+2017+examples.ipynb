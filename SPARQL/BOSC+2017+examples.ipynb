{
 "cells": [
  {
   "cell_type": "code",
   "execution_count": 1,
   "metadata": {},
   "outputs": [
    {
     "data": {
      "text/html": [
       "<div class=\"krn-spql\"><div class=\"magic\">Endpoint set to: https://query.wikidata.org/sparql</div><div class=\"magic\">Return format: JSON</div></div>"
      ],
      "text/plain": [
       "Endpoint set to: https://query.wikidata.org/sparql\n",
       "Return format: JSON\n"
      ]
     },
     "metadata": {},
     "output_type": "display_data"
    }
   ],
   "source": [
    "%endpoint  https://query.wikidata.org/sparql\n",
    "%format    json"
   ]
  },
  {
   "cell_type": "code",
   "execution_count": 4,
   "metadata": {},
   "outputs": [
    {
     "data": {
      "text/html": [
       "<div class=\"krn-spql\"><table><tr class=hdr><th>gene</th>\n",
       "<th>geneLabel</th></tr><tr class=odd><td class=val><a href=\"http://www.wikidata.org/entity/Q5013317\" target=\"_other\">http://www.wikidata.org/entity/Q5013317</a></td>\n",
       "<td class=val>COL22A1</td></tr><tr class=even><td class=val><a href=\"http://www.wikidata.org/entity/Q14912759\" target=\"_other\">http://www.wikidata.org/entity/Q14912759</a></td>\n",
       "<td class=val>SLC22A5</td></tr><tr class=odd><td class=val><a href=\"http://www.wikidata.org/entity/Q14914243\" target=\"_other\">http://www.wikidata.org/entity/Q14914243</a></td>\n",
       "<td class=val>PSAP</td></tr><tr class=even><td class=val><a href=\"http://www.wikidata.org/entity/Q14907990\" target=\"_other\">http://www.wikidata.org/entity/Q14907990</a></td>\n",
       "<td class=val>SLC30A8</td></tr><tr class=odd><td class=val><a href=\"http://www.wikidata.org/entity/Q18025002\" target=\"_other\">http://www.wikidata.org/entity/Q18025002</a></td>\n",
       "<td class=val>GAB1</td></tr><tr class=even><td class=val><a href=\"http://www.wikidata.org/entity/Q18035589\" target=\"_other\">http://www.wikidata.org/entity/Q18035589</a></td>\n",
       "<td class=val>C6orf10</td></tr><tr class=odd><td class=val><a href=\"http://www.wikidata.org/entity/Q18054256\" target=\"_other\">http://www.wikidata.org/entity/Q18054256</a></td>\n",
       "<td class=val>GSDMA</td></tr><tr class=even><td class=val><a href=\"http://www.wikidata.org/entity/Q18058487\" target=\"_other\">http://www.wikidata.org/entity/Q18058487</a></td>\n",
       "<td class=val>C5orf56</td></tr><tr class=odd><td class=val><a href=\"http://www.wikidata.org/entity/Q18030785\" target=\"_other\">http://www.wikidata.org/entity/Q18030785</a></td>\n",
       "<td class=val>PRKG1</td></tr><tr class=even><td class=val><a href=\"http://www.wikidata.org/entity/Q18027370\" target=\"_other\">http://www.wikidata.org/entity/Q18027370</a></td>\n",
       "<td class=val>IGSF3</td></tr><tr class=odd><td class=val><a href=\"http://www.wikidata.org/entity/Q18033424\" target=\"_other\">http://www.wikidata.org/entity/Q18033424</a></td>\n",
       "<td class=val>IL18R1</td></tr><tr class=even><td class=val><a href=\"http://www.wikidata.org/entity/Q18045382\" target=\"_other\">http://www.wikidata.org/entity/Q18045382</a></td>\n",
       "<td class=val>HPSE2</td></tr><tr class=odd><td class=val><a href=\"http://www.wikidata.org/entity/Q18051900\" target=\"_other\">http://www.wikidata.org/entity/Q18051900</a></td>\n",
       "<td class=val>PYHIN1</td></tr><tr class=even><td class=val><a href=\"http://www.wikidata.org/entity/Q18048437\" target=\"_other\">http://www.wikidata.org/entity/Q18048437</a></td>\n",
       "<td class=val>IL33</td></tr><tr class=odd><td class=val><a href=\"http://www.wikidata.org/entity/Q17709208\" target=\"_other\">http://www.wikidata.org/entity/Q17709208</a></td>\n",
       "<td class=val>ACO1</td></tr><tr class=even><td class=val><a href=\"http://www.wikidata.org/entity/Q18027822\" target=\"_other\">http://www.wikidata.org/entity/Q18027822</a></td>\n",
       "<td class=val>IL2RB</td></tr><tr class=odd><td class=val><a href=\"http://www.wikidata.org/entity/Q18030364\" target=\"_other\">http://www.wikidata.org/entity/Q18030364</a></td>\n",
       "<td class=val>PBX2</td></tr><tr class=even><td class=val><a href=\"http://www.wikidata.org/entity/Q18037773\" target=\"_other\">http://www.wikidata.org/entity/Q18037773</a></td>\n",
       "<td class=val>ABI3BP</td></tr><tr class=odd><td class=val><a href=\"http://www.wikidata.org/entity/Q18039623\" target=\"_other\">http://www.wikidata.org/entity/Q18039623</a></td>\n",
       "<td class=val>CTNNA3</td></tr><tr class=even><td class=val><a href=\"http://www.wikidata.org/entity/Q18046350\" target=\"_other\">http://www.wikidata.org/entity/Q18046350</a></td>\n",
       "<td class=val>ZNF665</td></tr></table><div class=\"tinfo\">Total: 39, Shown: 20</div></div>"
      ]
     },
     "metadata": {},
     "output_type": "display_data"
    }
   ],
   "source": [
    "# Demonstrates basic retrieval of GWAS catalog data\n",
    "PREFIX bd: <http://www.bigdata.com/rdf#>\n",
    "PREFIX wikibase: <http://wikiba.se/ontology#>\n",
    "PREFIX wdt: <http://www.wikidata.org/prop/direct/>\n",
    "PREFIX wd: <http://www.wikidata.org/entity/>\n",
    "\n",
    "SELECT DISTINCT ?gene ?geneLabel where {\n",
    "   ?gene wdt:P2293 wd:Q35869 .  # gene has genetic association to \"asthma\"\n",
    "   ?gene wdt:P31 wd:Q7187 .     # gene is subclass of \"gene\"\n",
    "   SERVICE wikibase:label { bd:serviceParam wikibase:language \"en\". }\n",
    " }"
   ]
  },
  {
   "cell_type": "code",
   "execution_count": 5,
   "metadata": {},
   "outputs": [
    {
     "data": {
      "text/html": [
       "<div class=\"krn-spql\"><table><tr class=hdr><th>gene</th>\n",
       "<th>geneLabel</th></tr><tr class=odd><td class=val><a href=\"http://www.wikidata.org/entity/Q14912759\" target=\"_other\">http://www.wikidata.org/entity/Q14912759</a></td>\n",
       "<td class=val>SLC22A5</td></tr><tr class=even><td class=val><a href=\"http://www.wikidata.org/entity/Q14914243\" target=\"_other\">http://www.wikidata.org/entity/Q14914243</a></td>\n",
       "<td class=val>PSAP</td></tr><tr class=odd><td class=val><a href=\"http://www.wikidata.org/entity/Q14907990\" target=\"_other\">http://www.wikidata.org/entity/Q14907990</a></td>\n",
       "<td class=val>SLC30A8</td></tr><tr class=even><td class=val><a href=\"http://www.wikidata.org/entity/Q18035589\" target=\"_other\">http://www.wikidata.org/entity/Q18035589</a></td>\n",
       "<td class=val>C6orf10</td></tr><tr class=odd><td class=val><a href=\"http://www.wikidata.org/entity/Q18054256\" target=\"_other\">http://www.wikidata.org/entity/Q18054256</a></td>\n",
       "<td class=val>GSDMA</td></tr><tr class=even><td class=val><a href=\"http://www.wikidata.org/entity/Q18030785\" target=\"_other\">http://www.wikidata.org/entity/Q18030785</a></td>\n",
       "<td class=val>PRKG1</td></tr><tr class=odd><td class=val><a href=\"http://www.wikidata.org/entity/Q18027370\" target=\"_other\">http://www.wikidata.org/entity/Q18027370</a></td>\n",
       "<td class=val>IGSF3</td></tr><tr class=even><td class=val><a href=\"http://www.wikidata.org/entity/Q18033424\" target=\"_other\">http://www.wikidata.org/entity/Q18033424</a></td>\n",
       "<td class=val>IL18R1</td></tr><tr class=odd><td class=val><a href=\"http://www.wikidata.org/entity/Q18045382\" target=\"_other\">http://www.wikidata.org/entity/Q18045382</a></td>\n",
       "<td class=val>HPSE2</td></tr><tr class=even><td class=val><a href=\"http://www.wikidata.org/entity/Q18027822\" target=\"_other\">http://www.wikidata.org/entity/Q18027822</a></td>\n",
       "<td class=val>IL2RB</td></tr><tr class=odd><td class=val><a href=\"http://www.wikidata.org/entity/Q18053559\" target=\"_other\">http://www.wikidata.org/entity/Q18053559</a></td>\n",
       "<td class=val>CDHR3</td></tr><tr class=even><td class=val><a href=\"http://www.wikidata.org/entity/Q14903974\" target=\"_other\">http://www.wikidata.org/entity/Q14903974</a></td>\n",
       "<td class=val>SMAD3</td></tr><tr class=odd><td class=val><a href=\"http://www.wikidata.org/entity/Q18035037\" target=\"_other\">http://www.wikidata.org/entity/Q18035037</a></td>\n",
       "<td class=val>RAD50</td></tr><tr class=even><td class=val><a href=\"http://www.wikidata.org/entity/Q18033919\" target=\"_other\">http://www.wikidata.org/entity/Q18033919</a></td>\n",
       "<td class=val>XPR1</td></tr><tr class=odd><td class=val><a href=\"http://www.wikidata.org/entity/Q18042132\" target=\"_other\">http://www.wikidata.org/entity/Q18042132</a></td>\n",
       "<td class=val>GSDMB</td></tr><tr class=even><td class=val><a href=\"http://www.wikidata.org/entity/Q18036729\" target=\"_other\">http://www.wikidata.org/entity/Q18036729</a></td>\n",
       "<td class=val>RAP1GAP2</td></tr><tr class=odd><td class=val><a href=\"http://www.wikidata.org/entity/Q18033889\" target=\"_other\">http://www.wikidata.org/entity/Q18033889</a></td>\n",
       "<td class=val>IL1RL1</td></tr><tr class=even><td class=val><a href=\"http://www.wikidata.org/entity/Q17917202\" target=\"_other\">http://www.wikidata.org/entity/Q17917202</a></td>\n",
       "<td class=val>ERBB4</td></tr><tr class=odd><td class=val><a href=\"http://www.wikidata.org/entity/Q18027836\" target=\"_other\">http://www.wikidata.org/entity/Q18027836</a></td>\n",
       "<td class=val>IL6R</td></tr><tr class=even><td class=val><a href=\"http://www.wikidata.org/entity/Q18030409\" target=\"_other\">http://www.wikidata.org/entity/Q18030409</a></td>\n",
       "<td class=val>PDE4D</td></tr></table><div class=\"tinfo\">Total: 22, Shown: 20</div></div>"
      ]
     },
     "metadata": {},
     "output_type": "display_data"
    }
   ],
   "source": [
    "# ... and whose gene product is localized to membrane[edit]\n",
    "PREFIX bd: <http://www.bigdata.com/rdf#>\n",
    "PREFIX wikibase: <http://wikiba.se/ontology#>\n",
    "PREFIX wdt: <http://www.wikidata.org/prop/direct/>\n",
    "PREFIX wd: <http://www.wikidata.org/entity/>\n",
    "SELECT DISTINCT ?gene ?geneLabel where {\n",
    "    ?gene wdt:P2293 wd:Q35869 .  # gene has genetic association to \"asthma\"\n",
    "    \n",
    "    ?gene wdt:P31 wd:Q7187 .     # gene is subclass of \"gene\"\n",
    "  \n",
    "    ?gene wdt:P688 ?protein .                # gene encodes a protein\n",
    "    ?protein wdt:P681 ?cc .                  # protein has a cellular component\n",
    "    ?cc wdt:P279*|wdt:P361* wd:Q14349455 .   # cell component is 'part of' or 'subclass of' membrane\n",
    "  \n",
    "   SERVICE wikibase:label { bd:serviceParam wikibase:language \"en\". }\n",
    " }"
   ]
  },
  {
   "cell_type": "code",
   "execution_count": 8,
   "metadata": {},
   "outputs": [
    {
     "data": {
      "text/html": [
       "<div class=\"krn-spql\"><table><tr class=hdr><th>gene</th>\n",
       "<th>geneLabel</th></tr><tr class=odd><td class=val><a href=\"http://www.wikidata.org/entity/Q14912759\" target=\"_other\">http://www.wikidata.org/entity/Q14912759</a></td>\n",
       "<td class=val>SLC22A5</td></tr><tr class=even><td class=val><a href=\"http://www.wikidata.org/entity/Q14914243\" target=\"_other\">http://www.wikidata.org/entity/Q14914243</a></td>\n",
       "<td class=val>PSAP</td></tr><tr class=odd><td class=val><a href=\"http://www.wikidata.org/entity/Q18027370\" target=\"_other\">http://www.wikidata.org/entity/Q18027370</a></td>\n",
       "<td class=val>IGSF3</td></tr><tr class=even><td class=val><a href=\"http://www.wikidata.org/entity/Q18033424\" target=\"_other\">http://www.wikidata.org/entity/Q18033424</a></td>\n",
       "<td class=val>IL18R1</td></tr><tr class=odd><td class=val><a href=\"http://www.wikidata.org/entity/Q18045382\" target=\"_other\">http://www.wikidata.org/entity/Q18045382</a></td>\n",
       "<td class=val>HPSE2</td></tr><tr class=even><td class=val><a href=\"http://www.wikidata.org/entity/Q14907990\" target=\"_other\">http://www.wikidata.org/entity/Q14907990</a></td>\n",
       "<td class=val>SLC30A8</td></tr><tr class=odd><td class=val><a href=\"http://www.wikidata.org/entity/Q18027822\" target=\"_other\">http://www.wikidata.org/entity/Q18027822</a></td>\n",
       "<td class=val>IL2RB</td></tr><tr class=even><td class=val><a href=\"http://www.wikidata.org/entity/Q14903974\" target=\"_other\">http://www.wikidata.org/entity/Q14903974</a></td>\n",
       "<td class=val>SMAD3</td></tr><tr class=odd><td class=val><a href=\"http://www.wikidata.org/entity/Q18035037\" target=\"_other\">http://www.wikidata.org/entity/Q18035037</a></td>\n",
       "<td class=val>RAD50</td></tr><tr class=even><td class=val><a href=\"http://www.wikidata.org/entity/Q18036729\" target=\"_other\">http://www.wikidata.org/entity/Q18036729</a></td>\n",
       "<td class=val>RAP1GAP2</td></tr><tr class=odd><td class=val><a href=\"http://www.wikidata.org/entity/Q17917202\" target=\"_other\">http://www.wikidata.org/entity/Q17917202</a></td>\n",
       "<td class=val>ERBB4</td></tr><tr class=even><td class=val><a href=\"http://www.wikidata.org/entity/Q18027836\" target=\"_other\">http://www.wikidata.org/entity/Q18027836</a></td>\n",
       "<td class=val>IL6R</td></tr><tr class=odd><td class=val><a href=\"http://www.wikidata.org/entity/Q18030409\" target=\"_other\">http://www.wikidata.org/entity/Q18030409</a></td>\n",
       "<td class=val>PDE4D</td></tr><tr class=even><td class=val><a href=\"http://www.wikidata.org/entity/Q18030185\" target=\"_other\">http://www.wikidata.org/entity/Q18030185</a></td>\n",
       "<td class=val>NOTCH4</td></tr><tr class=odd><td class=val><a href=\"http://www.wikidata.org/entity/Q18026947\" target=\"_other\">http://www.wikidata.org/entity/Q18026947</a></td>\n",
       "<td class=val>HLA-DQA1</td></tr></table><div class=\"tinfo\">Total: 15, Shown: 15</div></div>"
      ]
     },
     "metadata": {},
     "output_type": "display_data"
    }
   ],
   "source": [
    "#... where the GO localization is based on a non-IEA evidence code\n",
    "PREFIX bd: <http://www.bigdata.com/rdf#>\n",
    "PREFIX wikibase: <http://wikiba.se/ontology#>\n",
    "PREFIX wdt: <http://www.wikidata.org/prop/direct/>\n",
    "PREFIX wd: <http://www.wikidata.org/entity/>\n",
    "SELECT DISTINCT ?gene ?geneLabel where {\n",
    "    ?gene wdt:P2293 wd:Q35869 .  # gene has genetic association to \"asthma\"\n",
    "    \n",
    "    ?gene wdt:P31 wd:Q7187 .     # gene is subclass of \"gene\"\n",
    "  \n",
    "    ?gene wdt:P688 ?protein .                        # gene encodes a protein\n",
    "    ?protein p:P681 ?s .                             # protein's cell component statement\n",
    "      ?s ps:P681 ?cp .                               # get statement value\n",
    "      FILTER NOT EXISTS {?s pq:P459 wd:Q23190881 .}  # determination method is not IEA\n",
    "     ?cp wdt:P279*|wdt:P361* wd:Q14349455 .         # statement value is 'part of' or 'subclass of' membrane\n",
    " \n",
    "   SERVICE wikibase:label { bd:serviceParam wikibase:language \"en\". }\n",
    " }"
   ]
  },
  {
   "cell_type": "code",
   "execution_count": 15,
   "metadata": {},
   "outputs": [
    {
     "data": {
      "text/html": [
       "<div class=\"krn-spql\"><table><tr class=hdr><th>diseaseGALabel</th>\n",
       "<th>gene_counts</th>\n",
       "<th>geneList</th></tr><tr class=odd><td class=val>asthma</td>\n",
       "<td class=val>15</td>\n",
       "<td class=val>SMAD3, RAP1GAP2, IL18R1, HPSE2, PSAP, HLA-DQA1, IGSF3, IL2RB, IL6R, NOTCH4, SLC30A8, SLC22A5, ERBB4, PDE4D, RAD50</td></tr><tr class=even><td class=val>chronic obstructive pulmonary disease</td>\n",
       "<td class=val>5</td>\n",
       "<td class=val>HLA-C, SFTPD, ATP2C2, ANXA5, ANXA11</td></tr><tr class=odd><td class=val>lung cancer</td>\n",
       "<td class=val>3</td>\n",
       "<td class=val>TGM5, PHACTR2, VTI1A</td></tr><tr class=even><td class=val>interstitial lung disease</td>\n",
       "<td class=val>2</td>\n",
       "<td class=val>DSP, ATP11A</td></tr><tr class=odd><td class=val>nasopharynx carcinoma</td>\n",
       "<td class=val>2</td>\n",
       "<td class=val>ITGA9, TNFRSF19</td></tr><tr class=even><td class=val>non-small-cell lung carcinoma</td>\n",
       "<td class=val>2</td>\n",
       "<td class=val>NALCN, DLST</td></tr><tr class=odd><td class=val>adenocarcinoma of the lung</td>\n",
       "<td class=val>1</td>\n",
       "<td class=val>BTNL2</td></tr><tr class=even><td class=val>pulmonary emphysema</td>\n",
       "<td class=val>1</td>\n",
       "<td class=val>BICD1</td></tr></table><div class=\"tinfo\">Total: 8, Shown: 8</div></div>"
      ]
     },
     "metadata": {},
     "output_type": "display_data"
    }
   ],
   "source": [
    "#... with GWAS association with any respiratory disease\n",
    "PREFIX bd: <http://www.bigdata.com/rdf#>\n",
    "PREFIX wikibase: <http://wikiba.se/ontology#>\n",
    "PREFIX wdt: <http://www.wikidata.org/prop/direct/>\n",
    "PREFIX wd: <http://www.wikidata.org/entity/>\n",
    "\n",
    "SELECT ?diseaseGALabel (count (DISTINCT ?gene) as ?gene_counts) \n",
    "(group_concat(DISTINCT ?geneLabel; separator=\", \") as ?geneList) WHERE {\n",
    "  ?gene wdt:P2293 ?diseaseGA .        # gene has genetic association\n",
    "  ?diseaseGA wdt:P279* wd:Q3286546 .  # to a type of respiratory system disease\n",
    "  \n",
    "  ?gene wdt:P31 wd:Q7187 ; wdt:P688 ?protein ;    # gene is subclass of \"gene\" and encodes protein\n",
    "        rdfs:label ?geneLabel . \n",
    "  FILTER (lang(?geneLabel) = \"en\")\n",
    "  ?protein p:P681 ?s .                             # protein's cell component statement\n",
    "    ?s ps:P681 ?cp .                               # get statement value\n",
    "    FILTER NOT EXISTS {?s pq:P459 wd:Q23190881 .}  # determination method is not IEA\n",
    "    ?cp wdt:P279*|wdt:P361* wd:Q14349455 .         # statement value is 'part of' or 'subclass of' membrane\n",
    "\n",
    "  SERVICE wikibase:label { bd:serviceParam wikibase:language \"en\". }\n",
    "} \n",
    "GROUP BY ?diseaseGALabel ?geneList ORDER BY DESC(?gene_counts)"
   ]
  },
  {
   "cell_type": "code",
   "execution_count": 14,
   "metadata": {},
   "outputs": [
    {
     "data": {
      "text/html": [
       "<div class=\"krn-spql\"><table><tr class=hdr><th>diseaseGA</th>\n",
       "<th>diseaseGALabel</th>\n",
       "<th>exposure</th>\n",
       "<th>exposureLabel</th></tr><tr class=odd><td class=val><a href=\"http://www.wikidata.org/entity/Q35869\" target=\"_other\">http://www.wikidata.org/entity/Q35869</a></td>\n",
       "<td class=val>asthma</td>\n",
       "<td class=val><a href=\"http://www.wikidata.org/entity/Q21173555\" target=\"_other\">http://www.wikidata.org/entity/Q21173555</a></td>\n",
       "<td class=val>Phenacyl chloride exposure</td></tr><tr class=even><td class=val><a href=\"http://www.wikidata.org/entity/Q47912\" target=\"_other\">http://www.wikidata.org/entity/Q47912</a></td>\n",
       "<td class=val>lung cancer</td>\n",
       "<td class=val><a href=\"http://www.wikidata.org/entity/Q21396183\" target=\"_other\">http://www.wikidata.org/entity/Q21396183</a></td>\n",
       "<td class=val>arsenic pentoxide exposure</td></tr><tr class=odd><td class=val><a href=\"http://www.wikidata.org/entity/Q47912\" target=\"_other\">http://www.wikidata.org/entity/Q47912</a></td>\n",
       "<td class=val>lung cancer</td>\n",
       "<td class=val><a href=\"http://www.wikidata.org/entity/Q21506740\" target=\"_other\">http://www.wikidata.org/entity/Q21506740</a></td>\n",
       "<td class=val>HN1 exposure</td></tr><tr class=even><td class=val><a href=\"http://www.wikidata.org/entity/Q47912\" target=\"_other\">http://www.wikidata.org/entity/Q47912</a></td>\n",
       "<td class=val>lung cancer</td>\n",
       "<td class=val><a href=\"http://www.wikidata.org/entity/Q21513721\" target=\"_other\">http://www.wikidata.org/entity/Q21513721</a></td>\n",
       "<td class=val>mechlorethamine exposure</td></tr><tr class=odd><td class=val><a href=\"http://www.wikidata.org/entity/Q47912\" target=\"_other\">http://www.wikidata.org/entity/Q47912</a></td>\n",
       "<td class=val>lung cancer</td>\n",
       "<td class=val><a href=\"http://www.wikidata.org/entity/Q21514015\" target=\"_other\">http://www.wikidata.org/entity/Q21514015</a></td>\n",
       "<td class=val>HN3 exposure</td></tr><tr class=even><td class=val><a href=\"http://www.wikidata.org/entity/Q188605\" target=\"_other\">http://www.wikidata.org/entity/Q188605</a></td>\n",
       "<td class=val>pulmonary emphysema</td>\n",
       "<td class=val><a href=\"http://www.wikidata.org/entity/Q21175051\" target=\"_other\">http://www.wikidata.org/entity/Q21175051</a></td>\n",
       "<td class=val>phosgene exposure</td></tr></table><div class=\"tinfo\">Total: 6, Shown: 6</div></div>"
      ]
     },
     "metadata": {},
     "output_type": "display_data"
    }
   ],
   "source": [
    "# ... show associated chemical exposures\n",
    "PREFIX bd: <http://www.bigdata.com/rdf#>\n",
    "PREFIX wikibase: <http://wikiba.se/ontology#>\n",
    "PREFIX wdt: <http://www.wikidata.org/prop/direct/>\n",
    "PREFIX wd: <http://www.wikidata.org/entity/>\n",
    "SELECT DISTINCT ?diseaseGA ?diseaseGALabel ?exposure ?exposureLabel where {\n",
    "  ?gene wdt:P2293 ?diseaseGA .        # gene has genetic association\n",
    "  ?diseaseGA wdt:P279* wd:Q3286546 .  # to a type of respiratory system disease\n",
    "  \n",
    "  ?gene wdt:P31 wd:Q7187 .     # gene is subclass of \"gene\"\n",
    "\n",
    "  ?gene wdt:P688 ?protein .                        # gene encodes a protein\n",
    "  ?protein p:P681 ?s .                             # protein's cell component statement\n",
    "    ?s ps:P681 ?cp .                               # get statement value\n",
    "    FILTER NOT EXISTS {?s pq:P459 wd:Q23190881 .}  # determination method is not IEA\n",
    "    ?cp wdt:P279*|wdt:P361* wd:Q14349455 .         # statement value is 'part of' or 'subclass of' membrane\n",
    "\n",
    "  ?exposure wdt:P1542 ?diseaseGA .  # something causes disease\n",
    "  ?exposure wdt:P279 wd:Q21167512 . # and that something is a chemical hazard\n",
    "  \n",
    "  SERVICE wikibase:label { bd:serviceParam wikibase:language \"en\". }\n",
    "}"
   ]
  },
  {
   "cell_type": "code",
   "execution_count": 17,
   "metadata": {},
   "outputs": [
    {
     "data": {
      "text/html": [
       "<div class=\"krn-spql\"><table><tr class=hdr><th>gene</th>\n",
       "<th>geneLabel</th>\n",
       "<th>pathwayLabel</th></tr><tr class=odd><td class=val><a href=\"http://www.wikidata.org/entity/Q14903974\" target=\"_other\">http://www.wikidata.org/entity/Q14903974</a></td>\n",
       "<td class=val>SMAD3</td>\n",
       "<td class=val>Adipogenesis</td></tr><tr class=even><td class=val><a href=\"http://www.wikidata.org/entity/Q14903974\" target=\"_other\">http://www.wikidata.org/entity/Q14903974</a></td>\n",
       "<td class=val>SMAD3</td>\n",
       "<td class=val>Cell Cycle</td></tr><tr class=odd><td class=val><a href=\"http://www.wikidata.org/entity/Q14903974\" target=\"_other\">http://www.wikidata.org/entity/Q14903974</a></td>\n",
       "<td class=val>SMAD3</td>\n",
       "<td class=val>DNA Damage Response (only ATM dependent)</td></tr><tr class=even><td class=val><a href=\"http://www.wikidata.org/entity/Q14903974\" target=\"_other\">http://www.wikidata.org/entity/Q14903974</a></td>\n",
       "<td class=val>SMAD3</td>\n",
       "<td class=val>Extracellular vesicle-mediated signaling in recipient cells</td></tr><tr class=odd><td class=val><a href=\"http://www.wikidata.org/entity/Q14903974\" target=\"_other\">http://www.wikidata.org/entity/Q14903974</a></td>\n",
       "<td class=val>SMAD3</td>\n",
       "<td class=val>Senescence and Autophagy in Cancer</td></tr><tr class=even><td class=val><a href=\"http://www.wikidata.org/entity/Q14903974\" target=\"_other\">http://www.wikidata.org/entity/Q14903974</a></td>\n",
       "<td class=val>SMAD3</td>\n",
       "<td class=val>Endoderm Differentiation</td></tr><tr class=odd><td class=val><a href=\"http://www.wikidata.org/entity/Q14903974\" target=\"_other\">http://www.wikidata.org/entity/Q14903974</a></td>\n",
       "<td class=val>SMAD3</td>\n",
       "<td class=val>Hypothesized Pathways in Pathogenesis of Cardiovascular Disease</td></tr><tr class=even><td class=val><a href=\"http://www.wikidata.org/entity/Q14903974\" target=\"_other\">http://www.wikidata.org/entity/Q14903974</a></td>\n",
       "<td class=val>SMAD3</td>\n",
       "<td class=val>TGF-B Signaling in Thyroid Cells for Epithelial-Mesenchymal Transition</td></tr><tr class=odd><td class=val><a href=\"http://www.wikidata.org/entity/Q14903974\" target=\"_other\">http://www.wikidata.org/entity/Q14903974</a></td>\n",
       "<td class=val>SMAD3</td>\n",
       "<td class=val>Androgen receptor signaling pathway</td></tr><tr class=even><td class=val><a href=\"http://www.wikidata.org/entity/Q14903974\" target=\"_other\">http://www.wikidata.org/entity/Q14903974</a></td>\n",
       "<td class=val>SMAD3</td>\n",
       "<td class=val>Hepatitis C and Hepatocellular Carcinoma</td></tr><tr class=odd><td class=val><a href=\"http://www.wikidata.org/entity/Q14903974\" target=\"_other\">http://www.wikidata.org/entity/Q14903974</a></td>\n",
       "<td class=val>SMAD3</td>\n",
       "<td class=val>TGF-beta Receptor Signaling</td></tr><tr class=even><td class=val><a href=\"http://www.wikidata.org/entity/Q14903974\" target=\"_other\">http://www.wikidata.org/entity/Q14903974</a></td>\n",
       "<td class=val>SMAD3</td>\n",
       "<td class=val>TGF-beta Signaling Pathway</td></tr><tr class=odd><td class=val><a href=\"http://www.wikidata.org/entity/Q14903974\" target=\"_other\">http://www.wikidata.org/entity/Q14903974</a></td>\n",
       "<td class=val>SMAD3</td>\n",
       "<td class=val>AGE/RAGE pathway</td></tr><tr class=even><td class=val><a href=\"http://www.wikidata.org/entity/Q14903974\" target=\"_other\">http://www.wikidata.org/entity/Q14903974</a></td>\n",
       "<td class=val>SMAD3</td>\n",
       "<td class=val>Canonical and Non-Canonical TGF-B signaling</td></tr><tr class=odd><td class=val><a href=\"http://www.wikidata.org/entity/Q14903974\" target=\"_other\">http://www.wikidata.org/entity/Q14903974</a></td>\n",
       "<td class=val>SMAD3</td>\n",
       "<td class=val>Factors and pathways affecting insulin-like growth factor (IGF1)-Akt signaling</td></tr><tr class=even><td class=val><a href=\"http://www.wikidata.org/entity/Q14903974\" target=\"_other\">http://www.wikidata.org/entity/Q14903974</a></td>\n",
       "<td class=val>SMAD3</td>\n",
       "<td class=val>Ovarian Infertility Genes</td></tr><tr class=odd><td class=val><a href=\"http://www.wikidata.org/entity/Q14906978\" target=\"_other\">http://www.wikidata.org/entity/Q14906978</a></td>\n",
       "<td class=val>HLA-C</td>\n",
       "<td class=val>Allograft Rejection</td></tr><tr class=even><td class=val><a href=\"http://www.wikidata.org/entity/Q14906978\" target=\"_other\">http://www.wikidata.org/entity/Q14906978</a></td>\n",
       "<td class=val>HLA-C</td>\n",
       "<td class=val>Proteasome Degradation</td></tr><tr class=odd><td class=val><a href=\"http://www.wikidata.org/entity/Q14906111\" target=\"_other\">http://www.wikidata.org/entity/Q14906111</a></td>\n",
       "<td class=val>DSP</td>\n",
       "<td class=val>Arrhythmogenic Right Ventricular Cardiomyopathy</td></tr><tr class=even><td class=val><a href=\"http://www.wikidata.org/entity/Q14906111\" target=\"_other\">http://www.wikidata.org/entity/Q14906111</a></td>\n",
       "<td class=val>DSP</td>\n",
       "<td class=val>Lung fibrosis</td></tr></table><div class=\"tinfo\">Total: 59, Shown: 20</div></div>"
      ]
     },
     "metadata": {},
     "output_type": "display_data"
    }
   ],
   "source": [
    "# ... and show associated pathways\n",
    "PREFIX bd: <http://www.bigdata.com/rdf#>\n",
    "PREFIX wikibase: <http://wikiba.se/ontology#>\n",
    "PREFIX wdt: <http://www.wikidata.org/prop/direct/>\n",
    "PREFIX wd: <http://www.wikidata.org/entity/>\n",
    "\n",
    "SELECT DISTINCT ?gene ?geneLabel ?pathwayLabel where {\n",
    "  ?gene wdt:P2293 ?diseaseGA .        # gene has genetic association\n",
    "  ?diseaseGA wdt:P279* wd:Q3286546 .  # to a type of respiratory system disease\n",
    "  \n",
    "  ?gene wdt:P31 wd:Q7187 .     # gene is subclass of \"gene\"\n",
    "\n",
    "  ?gene wdt:P688 ?protein .                        # gene encodes a protein\n",
    "  ?protein p:P681 ?s .                             # protein's cell component statement\n",
    "    ?s ps:P681 ?cp .                               # get statement value\n",
    "    FILTER NOT EXISTS {?s pq:P459 wd:Q23190881 .}  # determination method is not IEA\n",
    "    ?cp wdt:P279*|wdt:P361* wd:Q14349455 .         # statement value is 'part of' or 'subclass of' membrane\n",
    "\n",
    "  ?pathway wdt:P31 wd:Q4915012 ;                   # instance of a biological pathway\n",
    "           wdt:P527 ?gene .\n",
    "\n",
    "  SERVICE wikibase:label { bd:serviceParam wikibase:language \"en\". }\n",
    "}"
   ]
  },
  {
   "cell_type": "code",
   "execution_count": null,
   "metadata": {},
   "outputs": [],
   "source": []
  }
 ],
 "metadata": {
  "kernelspec": {
   "display_name": "SPARQL",
   "language": "",
   "name": "sparql"
  },
  "language_info": {
   "codemirror_mode": {
    "name": "sparql"
   },
   "mimetype": "application/sparql-query",
   "name": "sparql",
   "pygments_lexer": "sparql-nb"
  }
 },
 "nbformat": 4,
 "nbformat_minor": 2
}
